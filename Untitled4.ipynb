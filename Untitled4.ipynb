{
  "nbformat": 4,
  "nbformat_minor": 0,
  "metadata": {
    "colab": {
      "provenance": [],
      "authorship_tag": "ABX9TyNpNXC2pKm2Mh9j+dyQI/Hx",
      "include_colab_link": true
    },
    "kernelspec": {
      "name": "python3",
      "display_name": "Python 3"
    },
    "language_info": {
      "name": "python"
    }
  },
  "cells": [
    {
      "cell_type": "markdown",
      "metadata": {
        "id": "view-in-github",
        "colab_type": "text"
      },
      "source": [
        "<a href=\"https://colab.research.google.com/github/KarinaPrendim/Conversor-de-medidas/blob/main/Untitled4.ipynb\" target=\"_parent\"><img src=\"https://colab.research.google.com/assets/colab-badge.svg\" alt=\"Open In Colab\"/></a>"
      ]
    },
    {
      "cell_type": "code",
      "execution_count": null,
      "metadata": {
        "id": "g4ONXDIl_fjt"
      },
      "outputs": [],
      "source": []
    },
    {
      "cell_type": "markdown",
      "source": [
        "#Conversor de medidas"
      ],
      "metadata": {
        "id": "17INQ2h-EGyZ"
      }
    },
    {
      "cell_type": "code",
      "source": [
        "medida= float(input('Uma distância em metros: '))\n",
        "cm= medida *100\n",
        "mm= medida *1000\n",
        "print('A medida de {}m corresponde a {}cm e {}mm'. format(medida, cm, mm))"
      ],
      "metadata": {
        "colab": {
          "base_uri": "https://localhost:8080/"
        },
        "id": "NNB1Yc3WEM2c",
        "outputId": "3c7fa93b-76d8-4f85-f78b-b718d93dc588"
      },
      "execution_count": 4,
      "outputs": [
        {
          "output_type": "stream",
          "name": "stdout",
          "text": [
            "Uma distância em metros: 150\n",
            "A medida de 150.0m corresponde a 15000.0cm e 150000.0mm\n"
          ]
        }
      ]
    },
    {
      "cell_type": "markdown",
      "source": [
        "#teste01"
      ],
      "metadata": {
        "id": "wupseoatGVLS"
      }
    },
    {
      "cell_type": "code",
      "source": [
        "medida= float(input('Uma distância em metros: '))\n",
        "km= medida /1000\n",
        "hm= medida /100\n",
        "dam= medida /10\n",
        "cm= medida *100\n",
        "mm= medida*1000\n",
        "print('Uma distancia em {}m corresponde {}km, {}hm, {}dam, {}cm e {}cm'. format(medida, km,hm, dam, cm, mm))"
      ],
      "metadata": {
        "colab": {
          "base_uri": "https://localhost:8080/"
        },
        "id": "ZX-HqWYnGXTs",
        "outputId": "96a9b3d5-1718-44b4-d06f-35d765afe08a"
      },
      "execution_count": 5,
      "outputs": [
        {
          "output_type": "stream",
          "name": "stdout",
          "text": [
            "Uma distância em metros: 5\n",
            "Uma distancia em 5.0m corresponde 0.005km, 0.05hm, 0.5dam, 500.0cm e 5000.0cm\n"
          ]
        }
      ]
    }
  ]
}